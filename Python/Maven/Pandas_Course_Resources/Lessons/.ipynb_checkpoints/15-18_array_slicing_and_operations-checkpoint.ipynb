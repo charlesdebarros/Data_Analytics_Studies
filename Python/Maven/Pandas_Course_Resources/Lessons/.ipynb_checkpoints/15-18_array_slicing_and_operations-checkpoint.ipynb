{
 "cells": [
  {
   "cell_type": "code",
   "execution_count": 2,
   "id": "c998947a-d5d0-4d4b-83a1-029eabaae892",
   "metadata": {},
   "outputs": [],
   "source": [
    "import pandas as pd\n",
    "import numpy as np\n",
    "from numpy.random import default_rng"
   ]
  },
  {
   "cell_type": "code",
   "execution_count": 6,
   "id": "e636b4e8-fffa-4aa1-be4a-bfcfb08aaf4e",
   "metadata": {},
   "outputs": [
    {
     "data": {
      "text/plain": [
       "array(['fruit', 'vegetable', 'cereal', 'dairy', 'eggs', 'snacks',\n",
       "       'beverages', 'coffee', 'tea', 'spices'], dtype='<U9')"
      ]
     },
     "execution_count": 6,
     "metadata": {},
     "output_type": "execute_result"
    }
   ],
   "source": [
    "product_array = np.array(['fruit', 'vegetable', 'cereal', 'dairy', 'eggs', 'snacks', 'beverages', 'coffee', 'tea', 'spices'])\n",
    "product_array"
   ]
  },
  {
   "cell_type": "code",
   "execution_count": 13,
   "id": "ac3d2bda-553e-4ef3-9150-77c1c674772b",
   "metadata": {},
   "outputs": [
    {
     "name": "stdout",
     "output_type": "stream",
     "text": [
      "vegetable\n",
      "spices\n"
     ]
    }
   ],
   "source": [
    "print(product_array[1])\n",
    "print(product_array[-1])"
   ]
  },
  {
   "cell_type": "code",
   "execution_count": 19,
   "id": "cf306240-12d8-4f9d-ad22-a5f7f3f2a6ae",
   "metadata": {},
   "outputs": [
    {
     "name": "stdout",
     "output_type": "stream",
     "text": [
      "['fruit' 'vegetable' 'cereal' 'dairy' 'eggs']\n",
      "['snacks' 'beverages' 'coffee' 'tea' 'spices']\n",
      "['snacks' 'coffee' 'spices']\n"
     ]
    }
   ],
   "source": [
    "print(product_array[:5])\n",
    "print(product_array[5:])\n",
    "print(product_array[5::2])"
   ]
  },
  {
   "cell_type": "markdown",
   "id": "2a9836a7-63b8-4ccd-8333-9ca46ee38174",
   "metadata": {},
   "source": [
    "## Slicing 2D array"
   ]
  },
  {
   "cell_type": "code",
   "execution_count": 21,
   "id": "ee3cb894-e8a4-4de3-9b0b-45b5f13d6981",
   "metadata": {},
   "outputs": [
    {
     "data": {
      "text/plain": [
       "array([['fruit', 'vegetable', 'cereal', 'dairy', 'eggs'],\n",
       "       ['snacks', 'beverages', 'coffee', 'tea', 'spices']], dtype='<U9')"
      ]
     },
     "execution_count": 21,
     "metadata": {},
     "output_type": "execute_result"
    }
   ],
   "source": [
    "product_array_2D = product_array.reshape(2, 5)\n",
    "product_array_2D"
   ]
  },
  {
   "cell_type": "code",
   "execution_count": 23,
   "id": "cc267283-6fbf-460f-b0c6-3207f8567d7f",
   "metadata": {},
   "outputs": [
    {
     "data": {
      "text/plain": [
       "'coffee'"
      ]
     },
     "execution_count": 23,
     "metadata": {},
     "output_type": "execute_result"
    }
   ],
   "source": [
    "product_array_2D[1, 2]  # second row, third element"
   ]
  },
  {
   "cell_type": "code",
   "execution_count": 29,
   "id": "7152aba8-7e0d-4b74-afad-9dc2f8d2e1d1",
   "metadata": {},
   "outputs": [
    {
     "data": {
      "text/plain": [
       "array([['cereal', 'dairy', 'eggs'],\n",
       "       ['coffee', 'tea', 'spices']], dtype='<U9')"
      ]
     },
     "execution_count": 29,
     "metadata": {},
     "output_type": "execute_result"
    }
   ],
   "source": [
    "product_array_2D[:, 2:]  # Goes to all rows, grab all elements starting from third row"
   ]
  },
  {
   "cell_type": "code",
   "execution_count": 30,
   "id": "d0141c60-83bc-4948-8706-961468c45606",
   "metadata": {},
   "outputs": [
    {
     "data": {
      "text/plain": [
       "array([['snacks', 'beverages', 'coffee', 'tea', 'spices']], dtype='<U9')"
      ]
     },
     "execution_count": 30,
     "metadata": {},
     "output_type": "execute_result"
    }
   ],
   "source": [
    "product_array_2D[1:, :]  # Goes to second row and grab all elements"
   ]
  },
  {
   "cell_type": "code",
   "execution_count": null,
   "id": "c0f1a18c-8f2b-4119-b268-4368f5d2e36f",
   "metadata": {},
   "outputs": [],
   "source": []
  }
 ],
 "metadata": {
  "kernelspec": {
   "display_name": "Python 3 (ipykernel)",
   "language": "python",
   "name": "python3"
  },
  "language_info": {
   "codemirror_mode": {
    "name": "ipython",
    "version": 3
   },
   "file_extension": ".py",
   "mimetype": "text/x-python",
   "name": "python",
   "nbconvert_exporter": "python",
   "pygments_lexer": "ipython3",
   "version": "3.11.5"
  }
 },
 "nbformat": 4,
 "nbformat_minor": 5
}
