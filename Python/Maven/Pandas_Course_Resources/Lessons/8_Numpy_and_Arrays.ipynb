{
 "cells": [
  {
   "cell_type": "code",
   "execution_count": 2,
   "id": "0cc2cb65-c1e4-4bfa-a51a-a28d6098e600",
   "metadata": {},
   "outputs": [],
   "source": [
    "import numpy as np"
   ]
  },
  {
   "cell_type": "code",
   "execution_count": 3,
   "id": "a1bfc4d4-1f19-4d7c-83df-7f7fb563aac3",
   "metadata": {},
   "outputs": [
    {
     "data": {
      "text/plain": [
       "array([   0,    5,  155,    0,  518,    0, 1827,  616,  317,  325])"
      ]
     },
     "execution_count": 3,
     "metadata": {},
     "output_type": "execute_result"
    }
   ],
   "source": [
    "sales = [0, 5, 155, 0, 518, 0, 1827, 616, 317, 325]\n",
    "sales_array = np.array(sales)\n",
    "sales_array"
   ]
  },
  {
   "cell_type": "code",
   "execution_count": 8,
   "id": "bc0bf56d-0c33-4dc7-98df-ee389598f47f",
   "metadata": {},
   "outputs": [
    {
     "name": "stdout",
     "output_type": "stream",
     "text": [
      "type:  <class 'numpy.ndarray'>\n",
      "dtype: int64\n",
      "ndim: 1\n",
      "size: 10\n",
      "shape: (10,)\n"
     ]
    }
   ],
   "source": [
    "print('type: ',type(sales_array))\n",
    "print('dtype:', sales_array.dtype)\n",
    "print('ndim:', sales_array.ndim)\n",
    "print('size:', sales_array.size)\n",
    "print('shape:', sales_array.shape)"
   ]
  },
  {
   "cell_type": "code",
   "execution_count": 11,
   "id": "9acf913b-7266-499e-bfba-0ee01b544e6a",
   "metadata": {},
   "outputs": [
    {
     "data": {
      "text/plain": [
       "array([0, 1, 2, 3, 4, 5, 6, 7, 8, 9])"
      ]
     },
     "execution_count": 11,
     "metadata": {},
     "output_type": "execute_result"
    }
   ],
   "source": [
    "arr = np.array(range(10))\n",
    "arr"
   ]
  },
  {
   "cell_type": "code",
   "execution_count": 13,
   "id": "8e62a461-83ea-4d10-9a88-ba05e1239ba0",
   "metadata": {},
   "outputs": [
    {
     "data": {
      "text/plain": [
       "array([[0, 1, 2, 3, 4],\n",
       "       [0, 1, 2, 3, 4]])"
      ]
     },
     "execution_count": 13,
     "metadata": {},
     "output_type": "execute_result"
    }
   ],
   "source": [
    "arr_2d = np.array([range(5), range(5)])\n",
    "arr_2d"
   ]
  },
  {
   "cell_type": "code",
   "execution_count": 15,
   "id": "a1616a53-3cb0-45a4-a3ca-faa1f443beca",
   "metadata": {},
   "outputs": [
    {
     "name": "stdout",
     "output_type": "stream",
     "text": [
      "(10,)\n",
      "(2, 5)\n"
     ]
    }
   ],
   "source": [
    "print(arr.shape)\n",
    "print(arr_2d.shape)"
   ]
  },
  {
   "cell_type": "code",
   "execution_count": 16,
   "id": "db6c64cf-0b1e-41a2-9e1a-47b8dae389ab",
   "metadata": {},
   "outputs": [
    {
     "name": "stdout",
     "output_type": "stream",
     "text": [
      "10\n",
      "10\n"
     ]
    }
   ],
   "source": [
    "print(arr.size)\n",
    "print(arr_2d.size)"
   ]
  },
  {
   "cell_type": "code",
   "execution_count": 17,
   "id": "2c45d581-d176-417e-9fed-d23823b433ab",
   "metadata": {},
   "outputs": [
    {
     "name": "stdout",
     "output_type": "stream",
     "text": [
      "1\n",
      "2\n"
     ]
    }
   ],
   "source": [
    "print(arr.ndim)\n",
    "print(arr_2d.ndim)"
   ]
  },
  {
   "cell_type": "code",
   "execution_count": 18,
   "id": "26911977-fd6e-4f8e-ab0c-ad0848b80cd3",
   "metadata": {},
   "outputs": [
    {
     "name": "stdout",
     "output_type": "stream",
     "text": [
      "int64\n",
      "int64\n"
     ]
    }
   ],
   "source": [
    "print(arr.dtype)\n",
    "print(arr_2d.dtype)"
   ]
  },
  {
   "cell_type": "code",
   "execution_count": 22,
   "id": "141e3881-3c67-4292-aa88-baf4bf6f3488",
   "metadata": {},
   "outputs": [
    {
     "data": {
      "text/plain": [
       "array([[0, 0],\n",
       "       [1, 1],\n",
       "       [2, 2],\n",
       "       [3, 3],\n",
       "       [4, 4]])"
      ]
     },
     "execution_count": 22,
     "metadata": {},
     "output_type": "execute_result"
    }
   ],
   "source": [
    "# Transposing an array with the .T method\n",
    "arr_transposed = arr_2d.T\n",
    "arr_transposed"
   ]
  },
  {
   "cell_type": "code",
   "execution_count": 24,
   "id": "229e7c56-63af-4862-a538-6e779abb0ede",
   "metadata": {},
   "outputs": [
    {
     "data": {
      "text/plain": [
       "array(['I', 'Love', 'Ruby'], dtype='<U4')"
      ]
     },
     "execution_count": 24,
     "metadata": {},
     "output_type": "execute_result"
    }
   ],
   "source": [
    "str_arr = np.array(['I', 'Love', 'Ruby'])\n",
    "str_arr"
   ]
  }
 ],
 "metadata": {
  "kernelspec": {
   "display_name": "Python 3 (ipykernel)",
   "language": "python",
   "name": "python3"
  },
  "language_info": {
   "codemirror_mode": {
    "name": "ipython",
    "version": 3
   },
   "file_extension": ".py",
   "mimetype": "text/x-python",
   "name": "python",
   "nbconvert_exporter": "python",
   "pygments_lexer": "ipython3",
   "version": "3.11.5"
  }
 },
 "nbformat": 4,
 "nbformat_minor": 5
}
